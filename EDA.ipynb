{
 "cells": [
  {
   "cell_type": "markdown",
   "metadata": {},
   "source": [
    "I imported the libraries I am going to use to build my web app and\n",
    "also imported the data set for the vehicles."
   ]
  },
  {
   "cell_type": "code",
   "execution_count": 22,
   "metadata": {},
   "outputs": [],
   "source": [
    "import pandas as pd\n",
    "import streamlit as st\n",
    "import plotly.express as px\n",
    "import numpy as np\n",
    "\n",
    "vehicle_data = pd.read_csv('vehicles_us.csv')\n"
   ]
  },
  {
   "cell_type": "markdown",
   "metadata": {},
   "source": [
    "This cache stores the function, allowing the app to run more smoothly. "
   ]
  },
  {
   "cell_type": "code",
   "execution_count": 23,
   "metadata": {},
   "outputs": [
    {
     "name": "stderr",
     "output_type": "stream",
     "text": [
      "2023-09-16 13:48:16.355 No runtime found, using MemoryCacheStorageManager\n"
     ]
    }
   ],
   "source": [
    "@st.cache_data\n",
    "def median_value(group):\n",
    "    if group.notnull().any():\n",
    "        return group.fillna(group.median())\n",
    "    else:\n",
    "        return group.fillna(np.nan)"
   ]
  },
  {
   "cell_type": "markdown",
   "metadata": {},
   "source": [
    "This first grouping of code adds the median value to each column where there are missing values. \n",
    "\n",
    "Right below is where I changed the names of the columns to more presentable names."
   ]
  },
  {
   "cell_type": "code",
   "execution_count": 24,
   "metadata": {},
   "outputs": [
    {
     "name": "stderr",
     "output_type": "stream",
     "text": [
      "c:\\Users\\Zachary\\AppData\\Local\\Programs\\Python\\Python310\\lib\\site-packages\\numpy\\lib\\nanfunctions.py:1215: RuntimeWarning:\n",
      "\n",
      "Mean of empty slice\n",
      "\n"
     ]
    }
   ],
   "source": [
    "vehicle_data['model_year'] = vehicle_data.groupby('model')['model_year'].transform(median_value)\n",
    "vehicle_data['cylinders'] = vehicle_data.groupby('model')['cylinders'].transform(median_value)\n",
    "vehicle_data['odometer'] = vehicle_data.groupby('model_year')['odometer'].transform(lambda x: x.fillna(x.median()))\n",
    "\n",
    "new_column_names = {'price': 'Price', 'model_year': 'Model Year', 'model': 'Model', 'condition': 'Condition', 'cylinders': 'Cylinders', 'fuel': 'Fuel',\n",
    "                    'odometer': 'Odometer', 'transmission': 'Transmission', 'type': 'Type', 'paint_color': 'Paint Color', 'is_4wd': 'Has 4WD', 'date_posted': 'Date Posted',\n",
    "                    'days_listed': 'Days Listed'}\n",
    "vehicle_data.rename(columns=new_column_names, inplace=True)"
   ]
  },
  {
   "cell_type": "markdown",
   "metadata": {},
   "source": [
    "Here we create the title of the web page and the code for the histogram and scatterplots."
   ]
  },
  {
   "cell_type": "code",
   "execution_count": 25,
   "metadata": {},
   "outputs": [],
   "source": [
    "st.title('Vehicle Data Analysis Tool')\n",
    "\n",
    "st.set_option('deprecation.showPyplotGlobalUse', False)\n",
    "\n",
    "select_model = st.selectbox('Select a car model', vehicle_data['Model'].unique())\n",
    "filtered_data = vehicle_data[vehicle_data['Model'] == select_model]\n",
    "\n",
    "st.write('Filtered Data:')\n",
    "st.write(filtered_data)\n",
    "\n",
    "st.subheader('Scatterplot for selected car model')\n",
    "x_column = st.selectbox('Select x-axis column', vehicle_data.columns)\n",
    "y_column = st.selectbox('Select y-axis column', vehicle_data.columns)\n",
    "\n",
    "fig = px.scatter(filtered_data, x=x_column, y=y_column, title=f\"Scatterplot: {x_column} vs {y_column}\")\n",
    "st.plotly_chart(fig)\n",
    "\n",
    "st.subheader('Histogram for selected car model')\n",
    "fig = px.histogram(filtered_data, x=x_column, nbins=20, title=f\"Histogram: {x_column}\")\n",
    "st.plotly_chart(fig)\n",
    "\n",
    "st.write(f\"Statistics for {x_column}:\")\n",
    "st.write(filtered_data[x_column].describe())"
   ]
  },
  {
   "cell_type": "markdown",
   "metadata": {},
   "source": [
    "This will display the statistics for each column selected in the dropdown menu."
   ]
  },
  {
   "cell_type": "code",
   "execution_count": 26,
   "metadata": {},
   "outputs": [],
   "source": [
    "st.write(f\"Statistics for {x_column}:\")\n",
    "\n",
    "st.write(vehicle_data[x_column].describe())"
   ]
  },
  {
   "cell_type": "code",
   "execution_count": null,
   "metadata": {},
   "outputs": [],
   "source": []
  }
 ],
 "metadata": {
  "kernelspec": {
   "display_name": "Python 3",
   "language": "python",
   "name": "python3"
  },
  "language_info": {
   "codemirror_mode": {
    "name": "ipython",
    "version": 3
   },
   "file_extension": ".py",
   "mimetype": "text/x-python",
   "name": "python",
   "nbconvert_exporter": "python",
   "pygments_lexer": "ipython3",
   "version": "3.10.2"
  },
  "orig_nbformat": 4
 },
 "nbformat": 4,
 "nbformat_minor": 2
}
